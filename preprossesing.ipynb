{
 "cells": [
  {
   "cell_type": "code",
   "execution_count": 62,
   "metadata": {},
   "outputs": [],
   "source": [
    "import pandas as pd\n",
    "import matplotlib.pyplot as plt\n",
    "\n",
    "#loading the data set\n",
    "df = pd.read_csv(\"Sleep_health_and_lifestyle_dataset.csv\")\n",
    "\n",
    "#filling missing values in sleep disorder feature\n",
    "df['Sleep Disorder'] = df['Sleep Disorder'].fillna('None')\n",
    "\n",
    "#dividing dependand and independant variayables \n",
    "y = df['Stress Level']\n",
    "X = df.drop(\"Stress Level\", axis=1)\n",
    "\n",
    "#dividing uper and lover blood presure in independant variyable\n",
    "X[['Upper Blood Pressure', 'Lower Blood Pressure']] = X[\"Blood Pressure\"].apply(lambda x: pd.Series(str(x).split(\"/\")))\n",
    "X = X.drop(\"Blood Pressure\", axis=1)\n",
    "\n",
    "#one hot encording in independant variyable\n",
    "X = pd.get_dummies(X, columns=['Gender', 'Occupation', 'BMI Category', 'Sleep Disorder'], dtype=int)\n",
    "\n",
    "#One HOT encording in dependant variyable\n",
    "y = pd.get_dummies(y, dtype=int)\n"
   ]
  }
 ],
 "metadata": {
  "kernelspec": {
   "display_name": "test",
   "language": "python",
   "name": "python3"
  },
  "language_info": {
   "codemirror_mode": {
    "name": "ipython",
    "version": 3
   },
   "file_extension": ".py",
   "mimetype": "text/x-python",
   "name": "python",
   "nbconvert_exporter": "python",
   "pygments_lexer": "ipython3",
   "version": "3.10.11"
  },
  "orig_nbformat": 4
 },
 "nbformat": 4,
 "nbformat_minor": 2
}
